{
 "cells": [
  {
   "cell_type": "code",
   "execution_count": 144,
   "id": "3e46af11-3dfd-4901-8303-3223f581cf4e",
   "metadata": {},
   "outputs": [],
   "source": [
    "from sympy.abc import * \n",
    "from sympy import * \n",
    "from sympy.stats import * \n",
    "import numpy as np \n",
    "import pandas as pd \n",
    "init_printing()"
   ]
  },
  {
   "cell_type": "markdown",
   "id": "c4b0d89b-295d-49d4-8e71-008be8178a5e",
   "metadata": {},
   "source": [
    "# Order Statistic"
   ]
  },
  {
   "cell_type": "code",
   "execution_count": 145,
   "id": "ef3f02df-b631-4bf2-991a-e5f54eb6c329",
   "metadata": {},
   "outputs": [
    {
     "data": {
      "image/png": "[encoded data removed]",
      "text/latex": [
       "$\\displaystyle \\left\\{ M_{1} : 175, \\  M_{2} : 350, \\  M_{3} : 275\\right\\}$"
      ],
      "text/plain": [
       "{M₁: 175, M₂: 350, M₃: 275}"
      ]
     },
     "execution_count": 145,
     "metadata": {},
     "output_type": "execute_result"
    }
   ],
   "source": [
    "# Symbolic\n",
    "from sympy.stats import * \n",
    "\n",
    "l, r = 100, 200\n",
    "\n",
    "v1 = Uniform('v1', l, r)\n",
    "v2 = Uniform('v2', l, r)\n",
    "v3 = Uniform('v3', l, r)\n",
    "\n",
    "M1, M2, M3, M4, M5, M6 = symbols('M1, M2, M3, M4, M5, M6')\n",
    "d = {\n",
    "    M1: E(Max(v1, v2, v3)), \n",
    "    M2: E(2 * Max(v1, v2, v3)),\n",
    "    M3: E(v1 + Min(v1, v2, v3))\n",
    "}\n",
    "d"
   ]
  },
  {
   "cell_type": "code",
   "execution_count": 146,
   "id": "30cc4f1d-77e8-42c6-8e85-9b1a788f643b",
   "metadata": {},
   "outputs": [
    {
     "data": {
      "image/png": "[encoded data removed]",
      "text/latex": [
       "$\\displaystyle \\left\\{ M_{1} : 175.010819792029\\right\\}$"
      ],
      "text/plain": [
       "{M₁: 175.01081979202948}"
      ]
     },
     "execution_count": 146,
     "metadata": {},
     "output_type": "execute_result"
    }
   ],
   "source": [
    "# Numerical \n",
    "\n",
    "l, r = 100, 200\n",
    "n = 1_000_000\n",
    "rng = np.random.default_rng(0)\n",
    "v1 = rng.uniform(l, r, n)\n",
    "v2 = rng.uniform(l, r, n)\n",
    "v3 = rng.uniform(l, r, n)\n",
    "\n",
    "d = {\n",
    "    M1: np.max([v1, v2, v3], axis=0).mean()\n",
    "}\n",
    "\n",
    "d"
   ]
  },
  {
   "cell_type": "code",
   "execution_count": 147,
   "id": "2edf0d82-f267-41aa-a8e4-227e51e1812b",
   "metadata": {},
   "outputs": [
    {
     "data": {
      "image/png": "[encoded data removed]",
      "text/latex": [
       "$\\displaystyle \\left\\{ M_{1} : 20.0, \\  M_{2} : 40.0, \\  M_{3} : 60.0\\right\\}$"
      ],
      "text/plain": [
       "{M₁: 20.0, M₂: 40.0, M₃: 60.0}"
      ]
     },
     "execution_count": 147,
     "metadata": {},
     "output_type": "execute_result"
    }
   ],
   "source": [
    "# Analytical \n",
    "\n",
    "k = 1\n",
    "n = 3 \n",
    "l, r = 100, 200\n",
    "def order_statistic(n, l=0, r=100, k=None):\n",
    "    \"\"\"\n",
    "    :param: n - number of people\n",
    "    :param: k - required order. n if maximum, 1 if minimum\n",
    "    \"\"\"\n",
    "    if k is None: \n",
    "        k = n-1\n",
    "    return k / (n+1) * (r-l) + l\n",
    "    \n",
    "d = {\n",
    "    M1: order_statistic(n=4, k=1),\n",
    "    M2: order_statistic(n=4, k=2), \n",
    "    M3: order_statistic(n=4, k=3)\n",
    "}\n",
    "d"
   ]
  },
  {
   "cell_type": "markdown",
   "id": "500fea29-0b63-407e-b70b-4e7bb735fbd1",
   "metadata": {},
   "source": [
    "# Discrete second price auction"
   ]
  },
  {
   "cell_type": "code",
   "execution_count": 166,
   "id": "edc64169-531f-4ec0-9cc1-2d8a5937eb1a",
   "metadata": {},
   "outputs": [
    {
     "data": {
      "text/html": [
       "<div>\n",
       "<style scoped>\n",
       "    .dataframe tbody tr th:only-of-type {\n",
       "        vertical-align: middle;\n",
       "    }\n",
       "\n",
       "    .dataframe tbody tr th {\n",
       "        vertical-align: top;\n",
       "    }\n",
       "\n",
       "    .dataframe thead th {\n",
       "        text-align: right;\n",
       "    }\n",
       "</style>\n",
       "<table border=\"1\" class=\"dataframe\">\n",
       "  <thead>\n",
       "    <tr style=\"text-align: right;\">\n",
       "      <th></th>\n",
       "      <th>b1</th>\n",
       "      <th>b2</th>\n",
       "      <th>b3</th>\n",
       "      <th>probability</th>\n",
       "      <th>revenue</th>\n",
       "    </tr>\n",
       "  </thead>\n",
       "  <tbody>\n",
       "    <tr>\n",
       "      <th>0</th>\n",
       "      <td>2</td>\n",
       "      <td>2</td>\n",
       "      <td>2</td>\n",
       "      <td>0.421875</td>\n",
       "      <td>2</td>\n",
       "    </tr>\n",
       "    <tr>\n",
       "      <th>1</th>\n",
       "      <td>2</td>\n",
       "      <td>2</td>\n",
       "      <td>4</td>\n",
       "      <td>0.140625</td>\n",
       "      <td>2</td>\n",
       "    </tr>\n",
       "    <tr>\n",
       "      <th>2</th>\n",
       "      <td>2</td>\n",
       "      <td>4</td>\n",
       "      <td>2</td>\n",
       "      <td>0.140625</td>\n",
       "      <td>2</td>\n",
       "    </tr>\n",
       "    <tr>\n",
       "      <th>3</th>\n",
       "      <td>2</td>\n",
       "      <td>4</td>\n",
       "      <td>4</td>\n",
       "      <td>0.046875</td>\n",
       "      <td>4</td>\n",
       "    </tr>\n",
       "    <tr>\n",
       "      <th>4</th>\n",
       "      <td>4</td>\n",
       "      <td>2</td>\n",
       "      <td>2</td>\n",
       "      <td>0.140625</td>\n",
       "      <td>2</td>\n",
       "    </tr>\n",
       "    <tr>\n",
       "      <th>5</th>\n",
       "      <td>4</td>\n",
       "      <td>2</td>\n",
       "      <td>4</td>\n",
       "      <td>0.046875</td>\n",
       "      <td>4</td>\n",
       "    </tr>\n",
       "    <tr>\n",
       "      <th>6</th>\n",
       "      <td>4</td>\n",
       "      <td>4</td>\n",
       "      <td>2</td>\n",
       "      <td>0.046875</td>\n",
       "      <td>4</td>\n",
       "    </tr>\n",
       "    <tr>\n",
       "      <th>7</th>\n",
       "      <td>4</td>\n",
       "      <td>4</td>\n",
       "      <td>4</td>\n",
       "      <td>0.015625</td>\n",
       "      <td>4</td>\n",
       "    </tr>\n",
       "  </tbody>\n",
       "</table>\n",
       "</div>"
      ],
      "text/plain": [
       "   b1  b2  b3  probability  revenue\n",
       "0   2   2   2     0.421875        2\n",
       "1   2   2   4     0.140625        2\n",
       "2   2   4   2     0.140625        2\n",
       "3   2   4   4     0.046875        4\n",
       "4   4   2   2     0.140625        2\n",
       "5   4   2   4     0.046875        4\n",
       "6   4   4   2     0.046875        4\n",
       "7   4   4   4     0.015625        4"
      ]
     },
     "execution_count": 166,
     "metadata": {},
     "output_type": "execute_result"
    }
   ],
   "source": [
    "# Numerical solution\n",
    "from itertools import product\n",
    "bidders = [\n",
    "    {2: 3/4, 4: 1/4},\n",
    "    {2: 3/4, 4: 1/4},\n",
    "    {2: 3/4, 4: 1/4},\n",
    "]\n",
    "def discrete_revenues(bidders, order=2):\n",
    "    lst = []\n",
    "    combinations = product(*(bidder.items() for bidder in bidders))\n",
    "    for combination in combinations:\n",
    "        values = [value for value, prob in combination]\n",
    "        probability = np.prod([prob for value, prob in combination])\n",
    "        sorted_values = np.sort(values)\n",
    "        values.append(probability)\n",
    "        values.append(sorted_values[-order])\n",
    "        lst.append(values)\n",
    "    return pd.DataFrame(\n",
    "        lst,\n",
    "        columns=[f'b{i+1}' for i in range(len(bidders))] + ['probability'] + ['revenue']\n",
    "    )\n",
    "table = discrene_revenues(bidders, order=2)\n",
    "table"
   ]
  },
  {
   "cell_type": "code",
   "execution_count": 165,
   "id": "8e8fef92-4d7c-457a-b225-10c6d49e6e85",
   "metadata": {},
   "outputs": [
    {
     "data": {
      "image/png": "[encoded data removed]",
      "text/latex": [
       "$\\displaystyle 2.3125$"
      ],
      "text/plain": [
       "2.3125"
      ]
     },
     "execution_count": 165,
     "metadata": {},
     "output_type": "execute_result"
    }
   ],
   "source": [
    "expected_revenue = table['probability'] @ table['revenue']\n",
    "expected_revenue"
   ]
  },
  {
   "cell_type": "markdown",
   "id": "9d27a7f7-fe39-4075-b5f4-3c5ae8a40158",
   "metadata": {},
   "source": [
    "# Continious Second Price Auction"
   ]
  },
  {
   "cell_type": "code",
   "execution_count": 170,
   "id": "3742a9c6-acf0-4253-97a6-5f8e1a69ebaa",
   "metadata": {},
   "outputs": [
    {
     "data": {
      "image/png": "[encoded data removed]",
      "text/latex": [
       "$\\displaystyle \\int\\limits_{0}^{100}\\int\\limits_{0}^{v_{1}} 0.0001\\, dv_{2}\\, dv_{1} = 0.5$"
      ],
      "text/plain": [
       "100 v₁                         \n",
       " ⌠  ⌠                          \n",
       " ⎮  ⎮  0.0001 d(v₂) d(v₁) = 0.5\n",
       " ⌡  ⌡                          \n",
       " 0  0                          "
      ]
     },
     "execution_count": 170,
     "metadata": {},
     "output_type": "execute_result"
    }
   ],
   "source": [
    "v1, v2, v3 = symbols(\"v1, v2, v3\")\n",
    "\n",
    "expr = Integral(nth, (v2, 0, v1), (v1, 0, 100))\n",
    "Eq(expr, expr.doit())"
   ]
  },
  {
   "cell_type": "code",
   "execution_count": 242,
   "id": "0b6ed45a-6752-4991-b679-f2f30b5fd2ce",
   "metadata": {},
   "outputs": [
    {
     "data": {
      "image/png": "[encoded data removed]",
      "text/latex": [
       "$\\displaystyle \\int\\limits_{0}^{100}\\int\\limits_{0}^{100}\\int\\limits_{0}^{100} \\frac{\\min\\left(v_{1}, v_{2}\\right)}{1000000}\\, dv_{2}\\, dv_{1}\\, dv_{3} = \\frac{100}{3}$"
      ],
      "text/plain": [
       "100 100 100                                      \n",
       " ⌠   ⌠   ⌠                                       \n",
       " ⎮   ⎮   ⎮  Min(v1, v2)                          \n",
       " ⎮   ⎮   ⎮  ─────────── d(v₂) d(v₁) d(v₃) = 100/3\n",
       " ⎮   ⎮   ⎮    1000000                            \n",
       " ⌡   ⌡   ⌡                                       \n",
       " 0   0   0                                       "
      ]
     },
     "execution_count": 242,
     "metadata": {},
     "output_type": "execute_result"
    }
   ],
   "source": [
    "# Calculate Expected Revenue. Second price Auction\n",
    "def Median(v1, v2, v3=None): \n",
    "    if v3 is None: \n",
    "        return Min(v1, v2)\n",
    "    return Max(Min(v1, v2), Min(v2, v3), Min(v3, v1))\n",
    "\n",
    "\n",
    "expr = Integral(\n",
    "    Median(v1, v2) / 100 ** 3,\n",
    "    (v2, 0, 100), \n",
    "    (v1, 0, 100),\n",
    "    (v3, 0, 100)\n",
    ")\n",
    "Eq(expr, expr.doit())"
   ]
  },
  {
   "cell_type": "code",
   "execution_count": 303,
   "id": "f328cd6a-65d9-49b8-a9d2-704ba03a5b4f",
   "metadata": {},
   "outputs": [
    {
     "data": {
      "image/png": "[encoded data removed]",
      "text/latex": [
       "$\\displaystyle \\left[ \\frac{50}{3}, \\  \\frac{175}{3}\\right]$"
      ],
      "text/plain": [
       "[50/3, 175/3]"
      ]
     },
     "execution_count": 303,
     "metadata": {},
     "output_type": "execute_result"
    }
   ],
   "source": [
    "# Calculate Expected Payoff. Second Price Auction. \n",
    "def expectation_sp(*intervals):\n",
    "    from sympy import symbols, integrate, Rational, Max, Symbol\n",
    "    variables = symbols(f'v:{len(intervals)}')\n",
    "    densities = [Rational(1, b - a) for a, b in intervals]\n",
    "    results = []\n",
    "    for i, v_i in enumerate(variables):\n",
    "        max_expression = Max(*[v for j, v in enumerate(variables) if j != i])\n",
    "        integral_expression = (v_i - max_expression) * densities[i] \n",
    "        for j, (a, b) in enumerate(intervals):\n",
    "            if j != i:\n",
    "                integral_expression *= densities[j]\n",
    "        integral_result = integrate(integral_expression, \n",
    "                                    (v_i, max_expression, intervals[i][1]), \n",
    "                                    *[ (v, intervals[j][0], intervals[j][1])\n",
    "                                      for j, v in enumerate(variables) if j != i ])\n",
    "        results.append(\n",
    "            integral_result * inetgrate(integral_expression)\n",
    "        )\n",
    "    return results\n",
    "\n",
    "expectation_sp((0, 100), (0, 200))"
   ]
  },
  {
   "cell_type": "code",
   "execution_count": 334,
   "id": "183e9f71-1431-471f-a4eb-08600c8ba56b",
   "metadata": {},
   "outputs": [
    {
     "data": {
      "image/png": "[encoded data removed]",
      "text/latex": [
       "$\\displaystyle \\left[ \\frac{25}{6}, \\  \\frac{325}{18}, \\  \\frac{1175}{18}\\right]$"
      ],
      "text/plain": [
       "⎡      325  1175⎤\n",
       "⎢25/6, ───, ────⎥\n",
       "⎣       18   18 ⎦"
      ]
     },
     "execution_count": 334,
     "metadata": {},
     "output_type": "execute_result"
    }
   ],
   "source": [
    "from sympy import symbols, integrate, Rational, Max\n",
    "\n",
    "def expectation_sp(*intervals, use_probs=True):\n",
    "    variables = symbols(f'v:{len(intervals)}')\n",
    "    densities = [Rational(1, b - a) for a, b in intervals]\n",
    "    results = []\n",
    "    \n",
    "    for i, v_i in enumerate(variables):\n",
    "        other_vars = [v for j, v in enumerate(variables) if j != i]\n",
    "        max_expression = Max(*other_vars)\n",
    "        density_expression = densities[i]\n",
    "        try:\n",
    "            argmax_index = variables.index(max_expression)\n",
    "        except Exception:\n",
    "            pass\n",
    "        for j, density in enumerate(densities):\n",
    "            if j != i:\n",
    "                density_expression *= density\n",
    "            try:\n",
    "                if j == argmax_index: \n",
    "                    densities_argmax = density\n",
    "                    P_v_i_gt_others = integrate(densities[i] * densities_argmax, \n",
    "                            (max_expression, intervals[i][0], intervals[i][1]), \n",
    "                            [\n",
    "                                (variables[argmax_index], \n",
    "                                 intervals[argmax_index][0], \n",
    "                                 intervals[argmax_index][1])\n",
    "                            ]\n",
    "                           )\n",
    "            except Exception:\n",
    "                P_v_i_gt_others = 1\n",
    "        integral_expression = (v_i - max_expression) * density_expression\n",
    "        integral_result = integrate(integral_expression, \n",
    "                                    (v_i, max_expression, intervals[i][1]), \n",
    "                                    *[ (var, intervals[j][0], intervals[j][1]) for j, var in enumerate(other_vars) ])\n",
    "        results.append(\n",
    "            integral_result * P_v_i_gt_others if use_probs else integral_result\n",
    "        )\n",
    "    return results\n",
    "\n",
    "expectation_sp_results = expectation_sp((0, 100), (0, 200), (0, 300), use_probs=True)\n",
    "expectation_sp_results\n"
   ]
  },
  {
   "cell_type": "code",
   "execution_count": 328,
   "id": "0668df35-7b06-48ed-bb23-dbc4e9c62f26",
   "metadata": {},
   "outputs": [
    {
     "data": {
      "text/plain": [
       "{'revenue': 41.66368022036526,\n",
       " 'payoff1': 8.331785962625734,\n",
       " 'payoff2': 58.44719532441895}"
      ]
     },
     "execution_count": 328,
     "metadata": {},
     "output_type": "execute_result"
    }
   ],
   "source": [
    "# Calculate Expected Payoff. Second Price Auction. \n",
    "n = 1_000_000\n",
    "v1 = np.random.uniform(0, 100, n)\n",
    "v2 = np.random.uniform(0, 200, n)\n",
    "{\n",
    "    'revenue': np.where(v1 > v2, v2, v1).mean(), \n",
    "    'payoff1': (v1 - v2)[v1 > v2].mean() * (v1 > v2).mean(),\n",
    "    'payoff2': (v2 - v1)[v2 > v1].mean() * (v2 > v1).mean(),\n",
    "\n",
    "}"
   ]
  },
  {
   "cell_type": "code",
   "execution_count": 232,
   "id": "95249ffe-41aa-4a27-bafd-78777f396861",
   "metadata": {},
   "outputs": [
    {
     "data": {
      "image/png": "[encoded data removed]",
      "text/latex": [
       "$\\displaystyle \\int\\limits_{0}^{\\frac{200}{3}}\\int\\limits_{0}^{\\frac{200}{3}}\\int\\limits_{0}^{\\frac{200}{3}} \\frac{27 \\max\\left(v_{1}, v_{2}, v_{3}\\right)}{8000000}\\, dv_{2}\\, dv_{1}\\, dv_{3} = 50$"
      ],
      "text/plain": [
       "200/3 200/3 200/3                                          \n",
       "  ⌠     ⌠     ⌠                                            \n",
       "  ⎮     ⎮     ⎮   27⋅Max(v1, v2, v3)                       \n",
       "  ⎮     ⎮     ⎮   ────────────────── d(v₂) d(v₁) d(v₃) = 50\n",
       "  ⎮     ⎮     ⎮        8000000                             \n",
       "  ⌡     ⌡     ⌡                                            \n",
       "  0     0     0                                            "
      ]
     },
     "execution_count": 232,
     "metadata": {},
     "output_type": "execute_result"
    }
   ],
   "source": [
    "# Calculate Expected Revenue. First price auction. First-Price bidding: (N-1) / N * v\n",
    "l, r = 0, 100\n",
    "n = 3 \n",
    "discount = Rational((n-1)/n).limit_denominator()\n",
    "expr = Integral(\n",
    "    Max(v1, v2, v3) / (100 * discount) ** 3,\n",
    "    (v2, l, r * discount), \n",
    "    (v1, l, r * discount),\n",
    "    (v3, l, r * discount)\n",
    ")\n",
    "\n",
    "Eq(expr, expr.doit())"
   ]
  },
  {
   "cell_type": "markdown",
   "id": "db29b978-23ef-4103-896b-aa6d049f5269",
   "metadata": {},
   "source": [
    "\n",
    "# Multi-Unit Auctions"
   ]
  },
  {
   "cell_type": "code",
   "execution_count": 345,
   "id": "b4916419-5d39-4b5a-8c45-11a92cbcadd0",
   "metadata": {},
   "outputs": [
    {
     "data": {
      "text/plain": [
       "{'Bidder 1': 47, 'Bidder 2': 146, 'Bidder 3': 101}"
      ]
     },
     "execution_count": 345,
     "metadata": {},
     "output_type": "execute_result"
    }
   ],
   "source": [
    "# Pay-As-Bid\n",
    "bids = {\n",
    "    'Bidder 1': [47,  44,  44,  30,  29,  29],\n",
    "    'Bidder 2': [50,  49,  47,  42,  30,  29],\n",
    "    'Bidder 3': [55,  46,  45,  43,  40, 38]\n",
    "}\n",
    "n = 6\n",
    "sorted_bids = sorted([(value, bidder) for bidder, bidder_bids in bids.items() for value in bidder_bids], reverse=True)\n",
    "winning_bids = sorted_bids[:n]\n",
    "payments = {'Bidder 1': 0, 'Bidder 2': 0, 'Bidder 3': 0}\n",
    "for value, bidder in winning_bids:\n",
    "    payments[bidder] += value\n",
    "payments\n"
   ]
  },
  {
   "cell_type": "code",
   "execution_count": 353,
   "id": "e17a21cf-d72e-4097-8122-0a1fbce0da65",
   "metadata": {},
   "outputs": [
    {
     "data": {
      "text/plain": [
       "{'Bidder 1': 46, 'Bidder 2': 138, 'Bidder 3': 92}"
      ]
     },
     "execution_count": 353,
     "metadata": {},
     "output_type": "execute_result"
    }
   ],
   "source": [
    "# Lowest Accepted Bid\n",
    "sorted_bids_flat = sorted([bid for bidder_bids in bids.values() for bid in bidder_bids], reverse=True)\n",
    "lowest_accepted_bid = sorted_bids_flat[n-1] \n",
    "winning_units = {'Bidder 1': 0, 'Bidder 2': 0, 'Bidder 3': 0}\n",
    "for bid in winning_bids[:n]:\n",
    "    winning_units[bid[1]] += 1\n",
    "payments_uniform = {bidder: units * lowest_accepted_bid for bidder, units in winning_units.items()}\n",
    "payments_uniform\n"
   ]
  },
  {
   "cell_type": "code",
   "execution_count": 356,
   "id": "0a765025-5ed7-4fd6-9dda-fe2d85b69067",
   "metadata": {},
   "outputs": [
    {
     "data": {
      "text/plain": [
       "{'Bidder 1': 45, 'Bidder 2': 135, 'Bidder 3': 90}"
      ]
     },
     "execution_count": 356,
     "metadata": {},
     "output_type": "execute_result"
    }
   ],
   "source": [
    "# Highest Unaccepted bid\n",
    "highest_unaccepted = sorted_bids_flat[n] \n",
    "winning_units = {'Bidder 1': 0, 'Bidder 2': 0, 'Bidder 3': 0}\n",
    "for bid in winning_bids[:n]:\n",
    "    winning_units[bid[1]] += 1\n",
    "payments_uniform = {bidder: units * highest_unaccepted for bidder, units in winning_units.items()}\n",
    "payments_uniform\n"
   ]
  },
  {
   "cell_type": "code",
   "execution_count": 408,
   "id": "efb55d89-e2c5-4bc2-94c6-112acc51b85e",
   "metadata": {},
   "outputs": [
    {
     "data": {
      "text/plain": [
       "{'Bidder 1': 45, 'Bidder 2': 133, 'Bidder 3': 88}"
      ]
     },
     "execution_count": 408,
     "metadata": {},
     "output_type": "execute_result"
    }
   ],
   "source": [
    "# Vickrey Auction\n",
    "\n",
    "payments = {'Bidder 1': 0, 'Bidder 2': 0, 'Bidder 3': 0}\n",
    "pool = {base_bidder: [i for i, b in sorted_bids[n:] if b != base_bidder] for base_bidder in payments}\n",
    "for bid, bidder in winning_bids[:n]:\n",
    "    payments[bidder] += pool[bidder][0]\n",
    "    pool[bidder] = pool[bidder][1:]\n",
    "payments"
   ]
  },
  {
   "cell_type": "markdown",
   "id": "6d4a208c-1800-43a4-adf4-d2dec31f3bec",
   "metadata": {},
   "source": [
    "# Position Auctions"
   ]
  },
  {
   "cell_type": "code",
   "execution_count": 522,
   "id": "36176cd3-5c4e-4682-b6cf-4a97bc73f5b2",
   "metadata": {},
   "outputs": [],
   "source": [
    "x = [300, 200, 100]\n",
    "\n",
    "v = [10, 8, 6, 4, 3]"
   ]
  },
  {
   "cell_type": "code",
   "execution_count": 523,
   "id": "d6e583e3-7d59-45a0-8f63-8aa5e284c180",
   "metadata": {},
   "outputs": [
    {
     "data": {
      "image/png": "[encoded data removed]",
      "text/latex": [
       "$\\displaystyle \\left[ 6.0, \\  5.0, \\  4\\right]$"
      ],
      "text/plain": [
       "[6.0, 5.0, 4]"
      ]
     },
     "execution_count": 523,
     "metadata": {},
     "output_type": "execute_result"
    }
   ],
   "source": [
    "# lowest market clearing prices\n",
    "p = [v[len(x)]]\n",
    "for k in range(len(x)-1, 0, -1): \n",
    "    nom = p[0] * x[k] + v[k] * x[k-1] - v[k] * x[k]\n",
    "    denom = x[k-1]\n",
    "    p.insert(0, \n",
    "        nom / denom, \n",
    "    )\n",
    "p"
   ]
  },
  {
   "cell_type": "code",
   "execution_count": 417,
   "id": "fff9d9cd-07bd-4cdb-9b40-6f1d5f25f8fa",
   "metadata": {},
   "outputs": [
    {
     "data": {
      "image/png": "[encoded data removed]",
      "text/latex": [
       "$\\displaystyle \\left[ \\frac{p_{k next} x_{k next} + v_{k} x_{k} - v_{k} x_{k next}}{x_{k}}\\right]$"
      ],
      "text/plain": [
       "⎡pₖ ₙₑₓₜ⋅xₖ ₙₑₓₜ + vₖ⋅xₖ - vₖ⋅xₖ ₙₑₓₜ⎤\n",
       "⎢────────────────────────────────────⎥\n",
       "⎣                 xₖ                 ⎦"
      ]
     },
     "execution_count": 417,
     "metadata": {},
     "output_type": "execute_result"
    }
   ],
   "source": [
    "# highest market clearing prices \n",
    "\n",
    "left, right = (v_k - p_k) * x_k, (v_k - p_k_next) * x_k_next\n",
    "\n",
    "solve(left - right, p_k)"
   ]
  },
  {
   "cell_type": "code",
   "execution_count": 527,
   "id": "26989190-dfec-468a-9ef8-f2a2076f2401",
   "metadata": {},
   "outputs": [
    {
     "data": {
      "image/png": "[encoded data removed]",
      "text/latex": [
       "$\\displaystyle \\left[ 8.0, \\  7.0, \\  6\\right]$"
      ],
      "text/plain": [
       "[8.0, 7.0, 6]"
      ]
     },
     "execution_count": 527,
     "metadata": {},
     "output_type": "execute_result"
    }
   ],
   "source": [
    "# highest market clearing prices \n",
    "p = [v[len(x)-1]]\n",
    "for k in range(len(x)-1, 0, -1): \n",
    "    nom = p[0] * x[k] + v[k-1] * x[k-1] - v[k-1] * x[k]\n",
    "    denom = x[k-1]\n",
    "    p.insert(0, \n",
    "        nom / denom, \n",
    "    )\n",
    "p"
   ]
  },
  {
   "cell_type": "code",
   "execution_count": 545,
   "id": "905c7cb2-4458-430f-9b7b-06d93dc51d98",
   "metadata": {},
   "outputs": [
    {
     "data": {
      "text/plain": [
       "[1800, 1000, 400, 0, 0]"
      ]
     },
     "execution_count": 545,
     "metadata": {},
     "output_type": "execute_result"
    }
   ],
   "source": [
    "# vickrey auction \n",
    "\n",
    "v = np.array(v)\n",
    "x = np.array(x)\n",
    "\n",
    "diff_x = np.diff(x[::-1], prepend=0)\n",
    "results = [diff_x[i:] @ v[i+1:4] for i in range(len(v))]\n",
    "results"
   ]
  },
  {
   "cell_type": "markdown",
   "id": "c93c9239-f01a-46aa-9c4d-f0eac58f9185",
   "metadata": {},
   "source": [
    "# Perfectly Divisible Units"
   ]
  },
  {
   "cell_type": "code",
   "execution_count": 615,
   "id": "20042755-46b9-4ad2-b990-ed17a3af7230",
   "metadata": {},
   "outputs": [
    {
     "data": {
      "image/png": "[encoded data removed]",
      "text/latex": [
       "$\\displaystyle \\left[ 14 - p, \\  24 - 2 p, \\  28 - 3 p\\right]$"
      ],
      "text/plain": [
       "[14 - p, 24 - 2⋅p, 28 - 3⋅p]"
      ]
     },
     "execution_count": 615,
     "metadata": {},
     "output_type": "execute_result"
    }
   ],
   "source": [
    "from sympy import * \n",
    "from sympy.abc import * \n",
    "p=Symbol('p', positive=True)\n",
    "total_supply = 6\n",
    "demands = sorted([14-p, 4-p, 10-p], reverse=True)\n",
    "total_demands = [sum(demands[:i+1]) for i in range(len(demands))]\n",
    "total_demands"
   ]
  },
  {
   "cell_type": "code",
   "execution_count": 618,
   "id": "7b873270-6a7e-46ab-a07d-35ed02eae830",
   "metadata": {},
   "outputs": [
    {
     "data": {
      "image/png": "[encoded data removed]",
      "text/latex": [
       "$\\displaystyle 6$"
      ],
      "text/plain": [
       "6"
      ]
     },
     "execution_count": 618,
     "metadata": {},
     "output_type": "execute_result"
    }
   ],
   "source": [
    "14 - 8"
   ]
  },
  {
   "cell_type": "code",
   "execution_count": 619,
   "id": "6f045b3f-2aee-4f93-bdd3-bba3b6c38d79",
   "metadata": {},
   "outputs": [
    {
     "data": {
      "image/png": "[encoded data removed]",
      "text/latex": [
       "$\\displaystyle 6$"
      ],
      "text/plain": [
       "6"
      ]
     },
     "execution_count": 619,
     "metadata": {},
     "output_type": "execute_result"
    }
   ],
   "source": [
    "24 - 18"
   ]
  },
  {
   "cell_type": "code",
   "execution_count": 621,
   "id": "79f4496a-e45f-4b93-8ff2-fad4321a9fe6",
   "metadata": {},
   "outputs": [
    {
     "data": {
      "image/png": "[encoded data removed]",
      "text/latex": [
       "$\\displaystyle 6.0$"
      ],
      "text/plain": [
       "6.0"
      ]
     },
     "execution_count": 621,
     "metadata": {},
     "output_type": "execute_result"
    }
   ],
   "source": [
    "28-3*22/3"
   ]
  },
  {
   "cell_type": "code",
   "execution_count": 616,
   "id": "025a5377-fda5-4643-87fc-022081355f45",
   "metadata": {},
   "outputs": [
    {
     "data": {
      "image/png": "[encoded data removed]",
      "text/latex": [
       "$\\displaystyle \\left[ 8, \\  9, \\  \\frac{22}{3}\\right]$"
      ],
      "text/plain": [
       "[8, 9, 22/3]"
      ]
     },
     "execution_count": 616,
     "metadata": {},
     "output_type": "execute_result"
    }
   ],
   "source": [
    "p_vec = [solve(tot_demand -  total_supply, p)[0] for tot_demand in total_demands]\n",
    "p_vec # cutoff price is -1 index here"
   ]
  },
  {
   "cell_type": "code",
   "execution_count": 617,
   "id": "b61e8268-4126-478f-8186-a28798ca5d1e",
   "metadata": {},
   "outputs": [
    {
     "data": {
      "image/png": "[encoded data removed]",
      "text/latex": [
       "$\\displaystyle \\left[ \\left[ 6, \\  2, \\  0\\right], \\  \\left[ 5, \\  1, \\  0\\right], \\  \\left[ \\frac{20}{3}, \\  \\frac{8}{3}, \\  0\\right]\\right]$"
      ],
      "text/plain": [
       "[[6, 2, 0], [5, 1, 0], [20/3, 8/3, 0]]"
      ]
     },
     "execution_count": 617,
     "metadata": {},
     "output_type": "execute_result"
    }
   ],
   "source": [
    "[[max(demand.subs(p, p_i), 0) for demand in demands] for p_i in p_vec]"
   ]
  },
  {
   "cell_type": "code",
   "execution_count": null,
   "id": "3e5b3211-b502-4fd3-a2a9-193cd9a67c9e",
   "metadata": {},
   "outputs": [],
   "source": []
  }
 ],
 "metadata": {
  "kernelspec": {
   "display_name": "Python 3 (ipykernel)",
   "language": "python",
   "name": "python3"
  },
  "language_info": {
   "codemirror_mode": {
    "name": "ipython",
    "version": 3
   },
   "file_extension": ".py",
   "mimetype": "text/x-python",
   "name": "python",
   "nbconvert_exporter": "python",
   "pygments_lexer": "ipython3",
   "version": "3.11.8"
  }
 },
 "nbformat": 4,
 "nbformat_minor": 5
}
